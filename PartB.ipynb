{
  "nbformat": 4,
  "nbformat_minor": 0,
  "metadata": {
    "colab": {
      "name": "PartB.ipynb",
      "provenance": []
    },
    "kernelspec": {
      "name": "python3",
      "display_name": "Python 3"
    },
    "language_info": {
      "name": "python"
    }
  },
  "cells": [
    {
      "cell_type": "code",
      "execution_count": 1,
      "metadata": {
        "colab": {
          "base_uri": "https://localhost:8080/"
        },
        "id": "Pzyi3knNyQ8r",
        "outputId": "8be5e530-d8b4-4ab0-97d5-c9a927087d04"
      },
      "outputs": [
        {
          "output_type": "stream",
          "name": "stdout",
          "text": [
            "\u001b[K     |████████████████████████████████| 1.8 MB 5.2 MB/s \n",
            "\u001b[K     |████████████████████████████████| 144 kB 53.3 MB/s \n",
            "\u001b[K     |████████████████████████████████| 181 kB 61.2 MB/s \n",
            "\u001b[K     |████████████████████████████████| 63 kB 1.7 MB/s \n",
            "\u001b[?25h  Building wheel for pathtools (setup.py) ... \u001b[?25l\u001b[?25hdone\n"
          ]
        }
      ],
      "source": [
        "#Install WandB\n",
        "!pip install -q wandb"
      ]
    },
    {
      "cell_type": "code",
      "source": [
        "#Import all the Libraries\n",
        "import sys\n",
        "import pathlib\n",
        "import numpy as np\n",
        "import pandas as pd\n",
        "import tensorflow as tf\n",
        "import wandb\n",
        "from PIL import Image\n",
        "from tensorflow.keras.preprocessing import image_dataset_from_directory as image_generator\n",
        "from tensorflow.keras.preprocessing.image import ImageDataGenerator\n",
        "from tensorflow.keras import layers, Model,Input\n",
        "from tensorflow.keras.layers.experimental.preprocessing import Rescaling\n",
        "from tensorflow.keras.models import Model"
      ],
      "metadata": {
        "id": "rup-gPSUykio"
      },
      "execution_count": 13,
      "outputs": []
    },
    {
      "cell_type": "code",
      "source": [
        "#Path to the directory\n",
        "Data_Directory = '/content/drive/MyDrive/inaturalist_12K/train'"
      ],
      "metadata": {
        "id": "zy78AcHQLpM_"
      },
      "execution_count": 3,
      "outputs": []
    },
    {
      "cell_type": "code",
      "source": [
        "#defining all the models\n",
        "def INCEPTION_RESNET_V2(inputshape):\n",
        "  return tf.keras.applications.InceptionResNetV2(input_shape=inputshape,weights='imagenet',include_top=False)\n",
        "def INCEPTION_V3(inputshape):\n",
        "  return tf.keras.applications.InceptionV3(input_shape=inputshape,weights='imagenet',include_top=False)\n",
        "def RESNET50(inputshape):\n",
        "  return tf.keras.applications.ResNet50(input_shape=inputshape,weights='imagenet',include_top=False)\n",
        "def Xception(inputshape):\n",
        "  return tf.keras.applications.Xception(input_shape=inputshape,weights='imagenet',include_top=False)\n",
        "#Dictionary to get the model \n",
        "Model_List={\"InceptionV3\":INCEPTION_V3,\"InceptionResNetV2\":INCEPTION_RESNET_V2,\"RESNET50\":RESNET50,\"Xception\":Xception}"
      ],
      "metadata": {
        "id": "mZ1AWLFj1Eiu"
      },
      "execution_count": 4,
      "outputs": []
    },
    {
      "cell_type": "markdown",
      "source": [
        "Reference:https://www.tensorflow.org/api_docs/python/tf/keras/utils/image_dataset_from_directory"
      ],
      "metadata": {
        "id": "G-P-d_MwNbGd"
      }
    },
    {
      "cell_type": "code",
      "source": [
        "#Get training Data From The Directory\n",
        "Training_Data = image_generator(\n",
        "                      directory=Data_Directory,labels='inferred',  \n",
        "                      label_mode='categorical',class_names=None,color_mode = 'rgb',\n",
        "                      batch_size=32,image_size=(256, 256),shuffle=True,\n",
        "                      seed=20,validation_split=0.1,\n",
        "                      subset='training',follow_links=False,crop_to_aspect_ratio=False,)\n",
        "# using only some percent of data\n",
        "Training_Data = Training_Data.take(int(0.20* len(Training_Data)))\n",
        "\n",
        "\n",
        "#preparing data augmentation\n",
        "traindata_augmenter=tf.keras.preprocessing.image.ImageDataGenerator(\n",
        "    featurewise_center=False,\n",
        "    samplewise_center=False,\n",
        "    featurewise_std_normalization=False,\n",
        "    samplewise_std_normalization=False,\n",
        "    zca_whitening=False,\n",
        "    zca_epsilon=1e-06,\n",
        "    rotation_range=25,\n",
        "    width_shift_range=0.3,\n",
        "    height_shift_range=0.3,\n",
        "    brightness_range=None,\n",
        "    shear_range=0.0,\n",
        "    zoom_range=0.0,\n",
        "    channel_shift_range=0.0,\n",
        "    fill_mode='nearest',\n",
        "    cval=0.0,\n",
        "    horizontal_flip=True,\n",
        "    vertical_flip=True,\n",
        "    rescale=None,\n",
        "    preprocessing_function=None,\n",
        "    data_format='channels_last',\n",
        "    validation_split=0.1,\n",
        "    dtype=None)"
      ],
      "metadata": {
        "colab": {
          "base_uri": "https://localhost:8080/"
        },
        "id": "lbChBqKFQCkK",
        "outputId": "305a766b-b288-478c-93fc-f16b3ded6d0d"
      },
      "execution_count": 5,
      "outputs": [
        {
          "output_type": "stream",
          "name": "stdout",
          "text": [
            "Found 10017 files belonging to 10 classes.\n",
            "Using 9016 files for training.\n"
          ]
        }
      ]
    },
    {
      "cell_type": "code",
      "source": [
        "\n",
        "Validation_Data = image_generator(\n",
        "                      directory=Data_Directory,labels='inferred',\n",
        "                      label_mode='categorical',class_names=None,color_mode ='rgb',\n",
        "                      batch_size= 2,image_size=(256, 256),\n",
        "                      shuffle=True,seed=20,validation_split = 0.1,\n",
        "                      subset='validation', follow_links=False,crop_to_aspect_ratio=False,)\n",
        "\n",
        "# using only some percent of data\n",
        "Validation_Data = Validation_Data.take(int(0.20*len(Validation_Data)))\n",
        "\n",
        "#preparing data augmentation\n",
        "valdata_augmenter = ImageDataGenerator(validation_split = 0.1)"
      ],
      "metadata": {
        "id": "QhGqQYACQHXo"
      },
      "execution_count": null,
      "outputs": []
    },
    {
      "cell_type": "code",
      "source": [
        "#Generating Train Data and Test Data for augmented data\n",
        "Train_Aug = traindata_augmenter.flow_from_directory(Data_Directory, shuffle = True, \\\n",
        "                                                         seed = 20, subset = 'training')\n",
        "Val_Aug = valdata_augmenter.flow_from_directory(Data_Directory, shuffle = True,\\\n",
        "                                                     seed = 20, subset = 'validation')"
      ],
      "metadata": {
        "id": "IPlzaVbje1vC"
      },
      "execution_count": null,
      "outputs": []
    },
    {
      "cell_type": "markdown",
      "source": [
        "Reference:https://www.tensorflow.org/guide/keras/custom_layers_and_models"
      ],
      "metadata": {
        "id": "EtlyEbYNNnZA"
      }
    },
    {
      "cell_type": "code",
      "source": [
        "#Subclass method for new layers and models\n",
        "class Train_CNN(Model):\n",
        "  def __init__(self,base_model_name,To_Tune=False,offset=10):\n",
        "    super(Train_CNN, self).__init__()\n",
        "    self.BaseModel_name=base_model_name\n",
        "    self.BaseModel=Model_List[self.BaseModel_name]\n",
        "    self.Shape_Image=(256,256,3)\n",
        "    self.Train_Model=self.BaseModel(self.Shape_Image)\n",
        "\n",
        "    if To_Tune == False:\n",
        "      self.Train_Model.trainable=False\n",
        "\n",
        "    else:\n",
        "      self.Train_Model.trainable=True\n",
        "      FineTune_till=len(self.Train_Model.layers)-offset\n",
        "      for subLayer in self.Train_Model.layers[:FineTune_till]:\n",
        "        subLayer.trainable=False\n",
        "      \n",
        "\n",
        "    self.Add_Avg_Pool=layers.GlobalAveragePooling2D()\n",
        "    self.Add_Dense=layers.Dense(10)\n",
        "\n",
        "  def call(self,inputs):\n",
        "    temp=self.Train_Model(inputs)\n",
        "    temp=self.Add_Avg_Pool(temp)\n",
        "    return self.Add_Dense(temp)"
      ],
      "metadata": {
        "id": "FIgyjstLzgEq"
      },
      "execution_count": 8,
      "outputs": []
    },
    {
      "cell_type": "code",
      "source": [
        "#Sample Run\n",
        "#Uncomment to execute\n",
        "\n",
        "\"\"\"\n",
        "#Replace Base_Model with any of the given model\n",
        "Parameters = sys.argv[1:]\n",
        "Base_Model=Parameters[1]      #Available Models are {\"InceptionV3\",\"InceptionResNetV2\",\"RESNET50\",\"Xception\"}\n",
        "Tune=Parameters[3]\n",
        "Offset=Parameters[5]\n",
        "trained_model=Train_CNN(Base_Model,Tune,Offset)\n",
        "trained_model.compile(optimizer=tf.keras.optimizers.Adam(),\n",
        "                loss=tf.keras.losses.CategoricalCrossentropy(from_logits=True),\n",
        "                metrics=['accuracy'])\n",
        "trained_model.fit(Training_Data, epochs=1, validation_data=Validation_Data)\n",
        "\"\"\""
      ],
      "metadata": {
        "id": "X5aW6u8L-9Up"
      },
      "execution_count": null,
      "outputs": []
    },
    {
      "cell_type": "code",
      "source": [
        "#Sample Run\n",
        "#Uncomment to execute\n",
        "#For Augmented Data\n",
        "\"\"\"\n",
        "#Replace Base_Model with any of the given model\n",
        "Parameters = sys.argv[1:]\n",
        "Base_Model=Parameters[1]      #Available Models are {\"InceptionV3\",\"InceptionResNetV2\",\"RESNET50\",\"Xception\"}\n",
        "Tune=Parameters[3]\n",
        "Offset=Parameters[5]\n",
        "trained_model=Train_CNN(Base_Model,Tune,Offset)\n",
        "trained_model.compile(optimizer=tf.keras.optimizers.Adam(),\n",
        "                loss=tf.keras.losses.CategoricalCrossentropy(from_logits=True),\n",
        "                metrics=['accuracy'])\n",
        "trained_model.fit(Train_Aug, epochs=1, validation_data=Val_Aug)\n",
        "\"\"\""
      ],
      "metadata": {
        "id": "X--s4YGhgKAn"
      },
      "execution_count": null,
      "outputs": []
    },
    {
      "cell_type": "code",
      "source": [
        "#Initializing the Sweep Functionality and parameters\n",
        "Sconfig={'name':'MainPart2_Sweep','method':'grid'}\n",
        "Sconfig['metric'] = {'name': 'val_acc', 'goal': 'maximize'}\n",
        "Parameter_List={\n",
        "    \n",
        "    'Base_Model_Name':{'values':[\"InceptionV3\",\"InceptionResNetV2\",\"RESNET50\",\"Xception\"]},\n",
        "    'Tune':{'values':[True,False]},\n",
        "    'Data_Aug':{'values':[True,False]}\n",
        "}\n",
        "Sconfig['parameters'] = Parameter_List"
      ],
      "metadata": {
        "id": "ED1AousX-9fD"
      },
      "execution_count": 9,
      "outputs": []
    },
    {
      "cell_type": "code",
      "source": [
        "def main(Base_Model_Name,Data_Aug,Tune):\n",
        "    Base_Model=Train_CNN(Base_Model_Name,Tune)       \n",
        "    Base_Model.compile(optimizer=tf.keras.optimizers.Adam(),loss=tf.keras.losses.CategoricalCrossentropy(from_logits=True),metrics=['accuracy'])\n",
        "    #if Data Augmentation is True\n",
        "    if Data_Aug == True:\n",
        "      Base_Model.fit(Train_Aug, steps_per_epoch=60, epochs=5,validation_data=Val_Aug, validation_steps=60,workers=10, callbacks = [wandb.keras.WandbCallback()])\n",
        "\n",
        "    else:\n",
        "      Base_Model.fit(Training_Data, epochs=5, validation_data=Validation_Data,callbacks = [wandb.keras.WandbCallback()])"
      ],
      "metadata": {
        "id": "Waon_G0HRiO7"
      },
      "execution_count": 10,
      "outputs": []
    },
    {
      "cell_type": "code",
      "source": [
        "#Driver Function\n",
        "def CNN_PreTrain(config=Sconfig):\n",
        "  with wandb.init(config=config):\n",
        "    config = wandb.init().config\n",
        "    BaseModelName=config.Base_Model_Name\n",
        "    Tune=config.Tune\n",
        "    Data_Aug=config.Data_Aug\n",
        "    wandb.run.name = 'BM_{}_Aug_{}_Tune_{}'.format(BaseModelName,Data_Aug,Tune)\n",
        "    main(BaseModelName,Data_Aug,Tune)"
      ],
      "metadata": {
        "id": "TXXSk4XLiV_Q"
      },
      "execution_count": 11,
      "outputs": []
    },
    {
      "cell_type": "code",
      "source": [
        "#setting Up Sweep Agent\n",
        "SweepId=wandb.sweep(Sconfig,project='DL-PartB')\n",
        "wandb.agent(SweepId,function=CNN_PreTrain)"
      ],
      "metadata": {
        "id": "j6LTPIYoh2vW"
      },
      "execution_count": null,
      "outputs": []
    }
  ]
}